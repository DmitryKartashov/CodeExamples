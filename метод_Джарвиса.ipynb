{
 "cells": [
  {
   "cell_type": "markdown",
   "metadata": {},
   "source": [
    "# Карташов ДД, ИМ17-06Б\n",
    "# Метод Джарвиса"
   ]
  },
  {
   "cell_type": "markdown",
   "metadata": {},
   "source": [
    "## На первом шаге алгоритма необходимо найти среди всех точек, стартовую, которая гарантированно входит в выпуклую оболочку. Выберем самую левую нижнюю точку в качестве исходной. Она точно входит в ВО."
   ]
  },
  {
   "cell_type": "markdown",
   "metadata": {},
   "source": [
    "## Далее А - это список всех точек.\n",
    "## H - это список индексов точек из A, входящих в выпуклую оболочку.\n",
    "## P - это список индексов точек из А, которые еще не вошли в выпуклую оболочку. + индекс начальной точки ВО, для остановки процесса.\n",
    "## P[right] - это точка-кандидат на следующую точку выпуклой оболочки.\n",
    "## Описание работы алгоритма ниже в коде."
   ]
  },
  {
   "cell_type": "code",
   "execution_count": 228,
   "metadata": {},
   "outputs": [],
   "source": [
    "import numpy as np\n",
    "import pandas as pd\n",
    "import matplotlib.pyplot as plt\n",
    "import random\n",
    "%matplotlib inline"
   ]
  },
  {
   "cell_type": "code",
   "execution_count": 239,
   "metadata": {},
   "outputs": [],
   "source": [
    "plt.rcParams[\"figure.figsize\"] = (10,8)"
   ]
  },
  {
   "cell_type": "code",
   "execution_count": 230,
   "metadata": {},
   "outputs": [],
   "source": [
    "def Less(a1,a2):\n",
    "    '''\n",
    "    функция для сортировки списка точек. После сортировки первая из них станет исходной точкой выпуклой оболочки\n",
    "    '''\n",
    "    return (a1[1]<a2[1]) or (a1[1]==a2[1] and a1[0]<a2[0])"
   ]
  },
  {
   "cell_type": "code",
   "execution_count": 231,
   "metadata": {},
   "outputs": [],
   "source": [
    "def quicksort(nums,pred):\n",
    "    '''\n",
    "    непосредственная сортировка по предикату\n",
    "    '''\n",
    "    if len(nums) <= 1:\n",
    "        return nums\n",
    "    else:\n",
    "        q = random.choice(nums)\n",
    "        s_nums = []\n",
    "        m_nums = []\n",
    "        e_nums = []\n",
    "        for n in nums:\n",
    "            if pred(n, q):\n",
    "                s_nums.append(n)\n",
    "            elif pred(q,n):\n",
    "                m_nums.append(n)\n",
    "            else:\n",
    "                e_nums.append(n)\n",
    "        return quicksort(s_nums,pred) + e_nums + quicksort(m_nums,pred)"
   ]
  },
  {
   "cell_type": "code",
   "execution_count": 232,
   "metadata": {},
   "outputs": [],
   "source": [
    "def rotate(A,B,C):\n",
    "    '''\n",
    "    определяет направление поворота при переходе по точкам A -> B - > C\n",
    "    '''\n",
    "    return (B[0]-A[0])*(C[1]-B[1])-(B[1]-A[1])*(C[0]-B[0])"
   ]
  },
  {
   "cell_type": "code",
   "execution_count": 233,
   "metadata": {},
   "outputs": [],
   "source": [
    "def jarvis(A):\n",
    "    n = len(A)\n",
    "    P = [i for i in range(n)] #список индексов еще не рассмотренных точек\n",
    "    '''\n",
    "    так как А - уже отсортированный список точек, то нижняя левая точка есть А[0]\n",
    "    '''\n",
    "    H = [P[0]] # добавляем эту точку в список точек оболочки\n",
    "    del P[0] #и удаляем ее из рассмотрения \n",
    "    P.append(H[0]) # но добавляем её же в конец рассматриваемых точек для возможности выполнения условия остановки\n",
    "    while True:\n",
    "        right = 0 #кандидат на новую точку оболочки\n",
    "        for i in range(1,len(P)):\n",
    "            '''\n",
    "            если вдруг текущий кандидат находится левее вектора, \n",
    "            который исходит из последней точки текущей оболочки в рассматриваемую i-тую точку,\n",
    "            то делаем новым кандидатом рассматриваемую i-тую точку\n",
    "            '''\n",
    "            if rotate(A[H[-1]],A[P[right]],A[P[i]])<0:\n",
    "                right = i\n",
    "        \n",
    "        if P[right]==H[0]: # если выйгравшая точка совпала с первой точкой среди выпуклой оболочки \n",
    "            # то заканчиваем алгоритм => оболочка построена\n",
    "            break\n",
    "        else:\n",
    "            # иначе добавляем кандидата в список точек оболочки\n",
    "            H.append(P[right]) \n",
    "            del P[right]# и удаляем его из дальнейшего рассмотрения\n",
    "    return H+[H[0]] "
   ]
  },
  {
   "cell_type": "markdown",
   "metadata": {},
   "source": [
    "# Решение задачи:"
   ]
  },
  {
   "cell_type": "code",
   "execution_count": 234,
   "metadata": {},
   "outputs": [],
   "source": [
    "# генерируем 20 точек из двумерного нормального распределения с матОжиданием в точке (0,0) и среднеквадратичным отклонением 10 \n",
    "A = list(np.random.randn(20,2)*10)\n",
    "# сортируем эти точки в лексекографическом порядке, как делали в методе цепей\n",
    "A = np.array(quicksort(A,Less))"
   ]
  },
  {
   "cell_type": "code",
   "execution_count": 240,
   "metadata": {},
   "outputs": [
    {
     "data": {
      "text/plain": [
       "[<matplotlib.lines.Line2D at 0xc4cc438>]"
      ]
     },
     "execution_count": 240,
     "metadata": {},
     "output_type": "execute_result"
    },
    {
     "data": {
      "image/png": "[encoded data removed]",
      "text/plain": [
       "<Figure size 720x576 with 1 Axes>"
      ]
     },
     "metadata": {},
     "output_type": "display_data"
    }
   ],
   "source": [
    "plt.plot(A[:,0],A[:,1],'Hb')"
   ]
  },
  {
   "cell_type": "code",
   "execution_count": 236,
   "metadata": {},
   "outputs": [],
   "source": [
    "# применяем метод Джарвиса\n",
    "H = jarvis(A)"
   ]
  },
  {
   "cell_type": "code",
   "execution_count": 237,
   "metadata": {},
   "outputs": [],
   "source": [
    "# из списка точек выделим те, которые по мнению метода представляют собой выпуклую оболочку\n",
    "Hx = A[H][:,0]\n",
    "Hy = A[H][:,1]"
   ]
  },
  {
   "cell_type": "code",
   "execution_count": 241,
   "metadata": {},
   "outputs": [
    {
     "data": {
      "text/plain": [
       "[<matplotlib.lines.Line2D at 0xc6c2b70>,\n",
       " <matplotlib.lines.Line2D at 0xc6c2cf8>]"
      ]
     },
     "execution_count": 241,
     "metadata": {},
     "output_type": "execute_result"
    },
    {
     "data": {
      "image/png": "[encoded data removed]",
      "text/plain": [
       "<Figure size 720x576 with 1 Axes>"
      ]
     },
     "metadata": {},
     "output_type": "display_data"
    }
   ],
   "source": [
    "# рисуем точки и выпуклую оболочку, соединенную пунктиром\n",
    "plt.plot(A[:,0],A[:,1],'Hb',Hx,Hy,'Hr--')"
   ]
  },
  {
   "cell_type": "code",
   "execution_count": null,
   "metadata": {},
   "outputs": [],
   "source": []
  }
 ],
 "metadata": {
  "kernelspec": {
   "display_name": "Python 3",
   "language": "python",
   "name": "python3"
  },
  "language_info": {
   "codemirror_mode": {
    "name": "ipython",
    "version": 3
   },
   "file_extension": ".py",
   "mimetype": "text/x-python",
   "name": "python",
   "nbconvert_exporter": "python",
   "pygments_lexer": "ipython3",
   "version": "3.8.3"
  }
 },
 "nbformat": 4,
 "nbformat_minor": 2
}
