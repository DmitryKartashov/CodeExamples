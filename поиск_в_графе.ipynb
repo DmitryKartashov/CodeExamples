{
 "cells": [
  {
   "cell_type": "code",
   "execution_count": 280,
   "metadata": {},
   "outputs": [],
   "source": [
    "import numpy as np\n",
    "import copy\n",
    "import pandas as pd"
   ]
  },
  {
   "cell_type": "code",
   "execution_count": 281,
   "metadata": {},
   "outputs": [],
   "source": [
    "class container:\n",
    "    def __init__(self,arr = []):\n",
    "        try:\n",
    "            self.arr = copy.copy(arr.arr)\n",
    "        except:\n",
    "            self.arr = copy.copy(arr)\n",
    "    def push(self,elem): pass\n",
    "    def pop(self):\n",
    "        try:\n",
    "            res = self.arr[-1]\n",
    "            self.arr = self.arr[:-1]\n",
    "        except:\n",
    "            return []\n",
    "        return res\n",
    "    def __str__(self):\n",
    "        return str(self.arr)\n",
    "    def __len__(self):\n",
    "        return len(self.arr)\n",
    "    def __getitem__(self,i):\n",
    "        return self.arr[i]\n",
    "    def __setitem__(self,i,val):\n",
    "        self.arr[i] = val\n",
    "    def __contains__(self,val):\n",
    "        return val in self.arr\n",
    "    def __iter__(self):\n",
    "        return self.arr.__iter__()\n",
    "\n",
    "class stack(container):\n",
    "    def push(self,*elem):\n",
    "        self.arr += list(elem)\n",
    "        \n",
    "    \n",
    "class queue(container):\n",
    "    def push(self,*elem):\n",
    "        self.arr = list(elem)+ self.arr"
   ]
  },
  {
   "cell_type": "code",
   "execution_count": 282,
   "metadata": {},
   "outputs": [],
   "source": [
    "class graph:\n",
    "    def __init__(self,names = {}):\n",
    "        if type(names) == '__main__.graph':\n",
    "            self.names = copy.copy(names.names)\n",
    "        else:\n",
    "            self.names = copy.copy(names)\n",
    "    def __str__(self):\n",
    "        return self.names.__str__()\n",
    "    def __len__(self):\n",
    "        return len(self.names)\n",
    "    def tops(self):\n",
    "        return [i for i in self.names.keys()]\n",
    "    def reorder(self,newtop):\n",
    "        '''\n",
    "        newtop - имя нового корня графа из числа тех вершин, которые уже в графе\n",
    "        '''\n",
    "        keys = self.tops()\n",
    "        if not newtop in keys:\n",
    "            return\n",
    "        d = {newtop:self.names[newtop]}\n",
    "        for key in keys:\n",
    "            if key != newtop:\n",
    "                d[key] = self.names[key]\n",
    "        self.names = copy.copy(d)\n",
    "    \n",
    "    def reachpeaks(self,top):\n",
    "        self.reorder(top)\n",
    "        return [i for i in self.walk()]\n",
    "    \n",
    "    def isavailablefrom(self,top1,top2):\n",
    "        return top2 in self.reachpeaks(top1)\n",
    "    \n",
    "    def walk(self,x = None,kind = 'w'):\n",
    "        if kind == 'w':\n",
    "            Q = queue()\n",
    "        else:\n",
    "            Q = stack()\n",
    "        keys = [k for k in self.names.keys()]\n",
    "        if not x: \n",
    "            x = {k:0 for k in keys}\n",
    "            beg = keys[0]\n",
    "        else:\n",
    "            for k in x.keys():\n",
    "                if x[k] == 0:\n",
    "                    beg = k\n",
    "                    break\n",
    "        \n",
    "        x[beg] = 1\n",
    "        Q.push(beg)\n",
    "        while len(Q) != 0:\n",
    "            u = Q.pop()\n",
    "            yield u\n",
    "            for neighbor in self.names[u]:\n",
    "                if x[neighbor] == 0:\n",
    "                    Q.push(neighbor)\n",
    "                    x[neighbor] = 1\n",
    "        self.x = x\n",
    "\n",
    "def walktest(gr):\n",
    "    #демонстрирует порядок обхода графа в ширину и глубину\n",
    "    if type(gr) != type(graph()): g = graph(gr)\n",
    "    else: g = gr\n",
    "    return pd.DataFrame({'в ширину': [u for u in g.walk(kind = 'w')],\n",
    "                  'в глубину': [u for u in g.walk(kind = 'd')]})\n",
    "def fullgraph(n = 3):\n",
    "    #генерация полного графа\n",
    "    def sub(a,val):\n",
    "        a = copy.copy(a)\n",
    "        a.remove(val)\n",
    "        return a\n",
    "    keys = [str(i) for i in range(n)]\n",
    "    d = {key:sub(keys,key) for key in keys}\n",
    "    return graph(d)\n",
    "\n",
    "def concomptest(gr):\n",
    "    #выделение компонент связности графа\n",
    "    if type(gr) != type(graph()): g = graph(gr)\n",
    "    else: g = gr\n",
    "    \n",
    "    x = {k:0 for k in g.names.keys()}\n",
    "    v = np.array([i for i in x.values()])\n",
    "    i = 1\n",
    "    while np.any(v == 0):\n",
    "        walk = [i for i in g.walk(x = x,kind = 'd')]\n",
    "        x = copy.copy(g.x)\n",
    "        v = np.array([i for i in x.values()])\n",
    "        print('Обход {}-ой компоненты связности: '.format(i), walk)\n",
    "        i+=1\n",
    "def availabletest(gr):\n",
    "    if type(gr) != type(graph()): g = graph(gr)\n",
    "    else: g = gr\n",
    "    for v in g.tops():\n",
    "        print('\\nИз вершины {} можно попасть в вершины {}'.format(v,g.reachpeaks(v)))\n"
   ]
  },
  {
   "cell_type": "code",
   "execution_count": 283,
   "metadata": {},
   "outputs": [],
   "source": [
    "d1 = {'1':['3','4'],\n",
    "          '2':['3'],\n",
    "          '3':['1','2','4'],\n",
    "          '4':['1','3']}\n",
    "d2 = {'1':['3','4'],\n",
    "        '2':['3','6'],\n",
    "        '3':['1','2','4','5'],\n",
    "        '4':['1','3','7'],\n",
    "        '5':['3'],\n",
    "        '6':['2'],\n",
    "        '7':['4']}\n",
    "d3 = {'1':['3','4'],\n",
    "        '2':['3','6','5'],\n",
    "        '3':['1','2','4','5'],\n",
    "        '4':['1','3','7'],\n",
    "        '5':['3','2'],\n",
    "        '6':['2','7'],\n",
    "        '7':['4','6']}\n",
    "\n",
    "test51 = {'1':['2','3','5'],\n",
    "         '2':['1','4','5'],\n",
    "         '3':['1','5'],\n",
    "         '4':['2','5'],\n",
    "         '5':['1','2','3','4','6','7'],\n",
    "         '6':['5','7'],\n",
    "         '7':['5','6']}\n",
    "test_not_connected1 = {'1':['2','3'], #два треугольника (1,2,3) and (4,5,6), не связных между собой\n",
    "        '2':['3','1'],\n",
    "        '3':['1','2'],\n",
    "        '4':['5','6'],\n",
    "        '5':['4','6'],\n",
    "        '6':['4','5']}\n",
    "test_not_connected2 = {'1':['2','3'], #два треугольника (1,2,3) and (4,5,6), не связных между собой и еще одна точка\n",
    "        '2':['3','1'],\n",
    "        '3':['1','2'],\n",
    "        '4':['5','6'],\n",
    "        '5':['4','6'],\n",
    "        '6':['4','5'],\n",
    "        '7':[]}\n",
    "test_org_graph1 = {'1':['2'],#ориентированный граф из примера 5.6\n",
    "        '2':['3'],\n",
    "        '3':['5','2'],\n",
    "        '4':['1','2'],\n",
    "        '5':[]}"
   ]
  },
  {
   "cell_type": "markdown",
   "metadata": {},
   "source": [
    "# Примеры обхода графов"
   ]
  },
  {
   "cell_type": "code",
   "execution_count": 284,
   "metadata": {},
   "outputs": [
    {
     "data": {
      "text/html": [
       "<div>\n",
       "<style scoped>\n",
       "    .dataframe tbody tr th:only-of-type {\n",
       "        vertical-align: middle;\n",
       "    }\n",
       "\n",
       "    .dataframe tbody tr th {\n",
       "        vertical-align: top;\n",
       "    }\n",
       "\n",
       "    .dataframe thead th {\n",
       "        text-align: right;\n",
       "    }\n",
       "</style>\n",
       "<table border=\"1\" class=\"dataframe\">\n",
       "  <thead>\n",
       "    <tr style=\"text-align: right;\">\n",
       "      <th></th>\n",
       "      <th>в ширину</th>\n",
       "      <th>в глубину</th>\n",
       "    </tr>\n",
       "  </thead>\n",
       "  <tbody>\n",
       "    <tr>\n",
       "      <th>0</th>\n",
       "      <td>1</td>\n",
       "      <td>1</td>\n",
       "    </tr>\n",
       "    <tr>\n",
       "      <th>1</th>\n",
       "      <td>3</td>\n",
       "      <td>4</td>\n",
       "    </tr>\n",
       "    <tr>\n",
       "      <th>2</th>\n",
       "      <td>4</td>\n",
       "      <td>3</td>\n",
       "    </tr>\n",
       "    <tr>\n",
       "      <th>3</th>\n",
       "      <td>2</td>\n",
       "      <td>2</td>\n",
       "    </tr>\n",
       "  </tbody>\n",
       "</table>\n",
       "</div>"
      ],
      "text/plain": [
       "  в ширину в глубину\n",
       "0        1         1\n",
       "1        3         4\n",
       "2        4         3\n",
       "3        2         2"
      ]
     },
     "execution_count": 284,
     "metadata": {},
     "output_type": "execute_result"
    }
   ],
   "source": [
    "walktest(d1)"
   ]
  },
  {
   "cell_type": "code",
   "execution_count": 285,
   "metadata": {},
   "outputs": [
    {
     "data": {
      "text/html": [
       "<div>\n",
       "<style scoped>\n",
       "    .dataframe tbody tr th:only-of-type {\n",
       "        vertical-align: middle;\n",
       "    }\n",
       "\n",
       "    .dataframe tbody tr th {\n",
       "        vertical-align: top;\n",
       "    }\n",
       "\n",
       "    .dataframe thead th {\n",
       "        text-align: right;\n",
       "    }\n",
       "</style>\n",
       "<table border=\"1\" class=\"dataframe\">\n",
       "  <thead>\n",
       "    <tr style=\"text-align: right;\">\n",
       "      <th></th>\n",
       "      <th>в ширину</th>\n",
       "      <th>в глубину</th>\n",
       "    </tr>\n",
       "  </thead>\n",
       "  <tbody>\n",
       "    <tr>\n",
       "      <th>0</th>\n",
       "      <td>1</td>\n",
       "      <td>1</td>\n",
       "    </tr>\n",
       "    <tr>\n",
       "      <th>1</th>\n",
       "      <td>3</td>\n",
       "      <td>4</td>\n",
       "    </tr>\n",
       "    <tr>\n",
       "      <th>2</th>\n",
       "      <td>4</td>\n",
       "      <td>7</td>\n",
       "    </tr>\n",
       "    <tr>\n",
       "      <th>3</th>\n",
       "      <td>2</td>\n",
       "      <td>3</td>\n",
       "    </tr>\n",
       "    <tr>\n",
       "      <th>4</th>\n",
       "      <td>5</td>\n",
       "      <td>5</td>\n",
       "    </tr>\n",
       "    <tr>\n",
       "      <th>5</th>\n",
       "      <td>7</td>\n",
       "      <td>2</td>\n",
       "    </tr>\n",
       "    <tr>\n",
       "      <th>6</th>\n",
       "      <td>6</td>\n",
       "      <td>6</td>\n",
       "    </tr>\n",
       "  </tbody>\n",
       "</table>\n",
       "</div>"
      ],
      "text/plain": [
       "  в ширину в глубину\n",
       "0        1         1\n",
       "1        3         4\n",
       "2        4         7\n",
       "3        2         3\n",
       "4        5         5\n",
       "5        7         2\n",
       "6        6         6"
      ]
     },
     "execution_count": 285,
     "metadata": {},
     "output_type": "execute_result"
    }
   ],
   "source": [
    "walktest(d2)"
   ]
  },
  {
   "cell_type": "code",
   "execution_count": 286,
   "metadata": {},
   "outputs": [
    {
     "data": {
      "text/html": [
       "<div>\n",
       "<style scoped>\n",
       "    .dataframe tbody tr th:only-of-type {\n",
       "        vertical-align: middle;\n",
       "    }\n",
       "\n",
       "    .dataframe tbody tr th {\n",
       "        vertical-align: top;\n",
       "    }\n",
       "\n",
       "    .dataframe thead th {\n",
       "        text-align: right;\n",
       "    }\n",
       "</style>\n",
       "<table border=\"1\" class=\"dataframe\">\n",
       "  <thead>\n",
       "    <tr style=\"text-align: right;\">\n",
       "      <th></th>\n",
       "      <th>в ширину</th>\n",
       "      <th>в глубину</th>\n",
       "    </tr>\n",
       "  </thead>\n",
       "  <tbody>\n",
       "    <tr>\n",
       "      <th>0</th>\n",
       "      <td>1</td>\n",
       "      <td>1</td>\n",
       "    </tr>\n",
       "    <tr>\n",
       "      <th>1</th>\n",
       "      <td>3</td>\n",
       "      <td>4</td>\n",
       "    </tr>\n",
       "    <tr>\n",
       "      <th>2</th>\n",
       "      <td>4</td>\n",
       "      <td>7</td>\n",
       "    </tr>\n",
       "    <tr>\n",
       "      <th>3</th>\n",
       "      <td>2</td>\n",
       "      <td>6</td>\n",
       "    </tr>\n",
       "    <tr>\n",
       "      <th>4</th>\n",
       "      <td>5</td>\n",
       "      <td>2</td>\n",
       "    </tr>\n",
       "    <tr>\n",
       "      <th>5</th>\n",
       "      <td>7</td>\n",
       "      <td>5</td>\n",
       "    </tr>\n",
       "    <tr>\n",
       "      <th>6</th>\n",
       "      <td>6</td>\n",
       "      <td>3</td>\n",
       "    </tr>\n",
       "  </tbody>\n",
       "</table>\n",
       "</div>"
      ],
      "text/plain": [
       "  в ширину в глубину\n",
       "0        1         1\n",
       "1        3         4\n",
       "2        4         7\n",
       "3        2         6\n",
       "4        5         2\n",
       "5        7         5\n",
       "6        6         3"
      ]
     },
     "execution_count": 286,
     "metadata": {},
     "output_type": "execute_result"
    }
   ],
   "source": [
    "walktest(d3)"
   ]
  },
  {
   "cell_type": "code",
   "execution_count": 287,
   "metadata": {},
   "outputs": [
    {
     "data": {
      "text/html": [
       "<div>\n",
       "<style scoped>\n",
       "    .dataframe tbody tr th:only-of-type {\n",
       "        vertical-align: middle;\n",
       "    }\n",
       "\n",
       "    .dataframe tbody tr th {\n",
       "        vertical-align: top;\n",
       "    }\n",
       "\n",
       "    .dataframe thead th {\n",
       "        text-align: right;\n",
       "    }\n",
       "</style>\n",
       "<table border=\"1\" class=\"dataframe\">\n",
       "  <thead>\n",
       "    <tr style=\"text-align: right;\">\n",
       "      <th></th>\n",
       "      <th>в ширину</th>\n",
       "      <th>в глубину</th>\n",
       "    </tr>\n",
       "  </thead>\n",
       "  <tbody>\n",
       "    <tr>\n",
       "      <th>0</th>\n",
       "      <td>1</td>\n",
       "      <td>1</td>\n",
       "    </tr>\n",
       "    <tr>\n",
       "      <th>1</th>\n",
       "      <td>2</td>\n",
       "      <td>5</td>\n",
       "    </tr>\n",
       "    <tr>\n",
       "      <th>2</th>\n",
       "      <td>3</td>\n",
       "      <td>7</td>\n",
       "    </tr>\n",
       "    <tr>\n",
       "      <th>3</th>\n",
       "      <td>5</td>\n",
       "      <td>6</td>\n",
       "    </tr>\n",
       "    <tr>\n",
       "      <th>4</th>\n",
       "      <td>4</td>\n",
       "      <td>4</td>\n",
       "    </tr>\n",
       "    <tr>\n",
       "      <th>5</th>\n",
       "      <td>6</td>\n",
       "      <td>3</td>\n",
       "    </tr>\n",
       "    <tr>\n",
       "      <th>6</th>\n",
       "      <td>7</td>\n",
       "      <td>2</td>\n",
       "    </tr>\n",
       "  </tbody>\n",
       "</table>\n",
       "</div>"
      ],
      "text/plain": [
       "  в ширину в глубину\n",
       "0        1         1\n",
       "1        2         5\n",
       "2        3         7\n",
       "3        5         6\n",
       "4        4         4\n",
       "5        6         3\n",
       "6        7         2"
      ]
     },
     "execution_count": 287,
     "metadata": {},
     "output_type": "execute_result"
    }
   ],
   "source": [
    "walktest(test51)"
   ]
  },
  {
   "cell_type": "markdown",
   "metadata": {},
   "source": [
    "# Задача о выделении компонент связности графа"
   ]
  },
  {
   "cell_type": "code",
   "execution_count": 288,
   "metadata": {},
   "outputs": [
    {
     "name": "stdout",
     "output_type": "stream",
     "text": [
      "Обход 1-ой компоненты связности:  ['1', '3', '2']\n",
      "Обход 2-ой компоненты связности:  ['4', '6', '5']\n",
      "Обход 3-ой компоненты связности:  ['7']\n"
     ]
    }
   ],
   "source": [
    "concomptest(test_not_connected2)"
   ]
  },
  {
   "cell_type": "code",
   "execution_count": 289,
   "metadata": {},
   "outputs": [
    {
     "name": "stdout",
     "output_type": "stream",
     "text": [
      "Обход 1-ой компоненты связности:  ['1', '3', '2']\n",
      "Обход 2-ой компоненты связности:  ['4', '6', '5']\n"
     ]
    }
   ],
   "source": [
    "concomptest(test_not_connected1)"
   ]
  },
  {
   "cell_type": "code",
   "execution_count": 290,
   "metadata": {},
   "outputs": [
    {
     "name": "stdout",
     "output_type": "stream",
     "text": [
      "Обход 1-ой компоненты связности:  ['1', '2', '3', '5']\n",
      "Обход 2-ой компоненты связности:  ['4']\n"
     ]
    }
   ],
   "source": [
    "concomptest(test_org_graph1)"
   ]
  },
  {
   "cell_type": "markdown",
   "metadata": {},
   "source": [
    "# Задача о достижимости вершин графа"
   ]
  },
  {
   "cell_type": "code",
   "execution_count": 291,
   "metadata": {},
   "outputs": [
    {
     "name": "stdout",
     "output_type": "stream",
     "text": [
      "{'1': ['2'], '2': ['3'], '3': ['5', '2'], '4': ['1', '2'], '5': []}\n"
     ]
    }
   ],
   "source": [
    "g = graph(test_org_graph1)\n",
    "print(g)"
   ]
  },
  {
   "cell_type": "code",
   "execution_count": 292,
   "metadata": {},
   "outputs": [
    {
     "name": "stdout",
     "output_type": "stream",
     "text": [
      "\n",
      "Из вершины 1 можно попасть в вершины ['1', '2', '3', '5']\n",
      "\n",
      "Из вершины 2 можно попасть в вершины ['2', '3', '5']\n",
      "\n",
      "Из вершины 3 можно попасть в вершины ['3', '5', '2']\n",
      "\n",
      "Из вершины 4 можно попасть в вершины ['4', '1', '2', '3', '5']\n",
      "\n",
      "Из вершины 5 можно попасть в вершины ['5']\n"
     ]
    }
   ],
   "source": [
    "availabletest(g)"
   ]
  }
 ],
 "metadata": {
  "kernelspec": {
   "display_name": "Python 3",
   "language": "python",
   "name": "python3"
  },
  "language_info": {
   "codemirror_mode": {
    "name": "ipython",
    "version": 3
   },
   "file_extension": ".py",
   "mimetype": "text/x-python",
   "name": "python",
   "nbconvert_exporter": "python",
   "pygments_lexer": "ipython3",
   "version": "3.8.3"
  }
 },
 "nbformat": 4,
 "nbformat_minor": 2
}
