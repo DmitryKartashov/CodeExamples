{
 "cells": [
  {
   "cell_type": "markdown",
   "metadata": {},
   "source": [
    "# Выполнил: Карташов ДД из ИМ17-06Б"
   ]
  },
  {
   "cell_type": "code",
   "execution_count": 1,
   "metadata": {},
   "outputs": [],
   "source": [
    "import numpy as np\n",
    "import copy"
   ]
  },
  {
   "cell_type": "markdown",
   "metadata": {},
   "source": [
    "## структуры данных для представления графов"
   ]
  },
  {
   "cell_type": "code",
   "execution_count": 2,
   "metadata": {},
   "outputs": [],
   "source": [
    "class container:\n",
    "    def __init__(self,arr = []):\n",
    "        try:\n",
    "            self.arr = copy.copy(arr.arr)\n",
    "        except:\n",
    "            self.arr = copy.copy(arr)\n",
    "    def push(self,elem): pass\n",
    "    def pop(self):\n",
    "        try:\n",
    "            res = self.arr[-1]\n",
    "            self.arr = self.arr[:-1]\n",
    "        except:\n",
    "            return []\n",
    "        return res\n",
    "    def __str__(self):\n",
    "        return str(self.arr)\n",
    "    def __len__(self):\n",
    "        return len(self.arr)\n",
    "    def __getitem__(self,i):\n",
    "        return self.arr[i]\n",
    "    def __setitem__(self,i,val):\n",
    "        self.arr[i] = val\n",
    "    def __contains__(self,val):\n",
    "        return val in self.arr\n",
    "    def __iter__(self):\n",
    "        return self.arr.__iter__()\n",
    "\n",
    "class stack(container):\n",
    "    def push(self,*elem):\n",
    "        self.arr += list(elem)\n",
    "        \n",
    "    \n",
    "class queue(container):\n",
    "    def push(self,*elem):\n",
    "        self.arr = list(elem)+ self.arr\n",
    "        \n",
    "class graph:\n",
    "    def __init__(self,names = {},weight = None):\n",
    "        if type(names) == '__main__.graph':\n",
    "            self.names = copy.copy(names.names)\n",
    "        else:\n",
    "            self.names = copy.copy(names)\n",
    "        if len(weight) == 0:\n",
    "            self.weight =np.zeros((len(self.names),len(self.names)))\n",
    "        else:\n",
    "            self.weight = weight\n",
    "    def __str__(self):\n",
    "        return self.names.__str__()\n",
    "    def __len__(self):\n",
    "        return len(self.names)\n",
    "    def tops(self):\n",
    "        return [i for i in self.names.keys()]\n",
    "    def reorder(self,newtop):\n",
    "        '''\n",
    "        newtop - имя нового корня графа из числа тех вершин, которые уже в графе\n",
    "        '''\n",
    "        keys = self.tops()\n",
    "        if not newtop in keys:\n",
    "            return\n",
    "        d = {newtop:self.names[newtop]}\n",
    "        for key in keys:\n",
    "            if key != newtop:\n",
    "                d[key] = self.names[key]\n",
    "        self.names = copy.copy(d)\n",
    "    \n",
    "    def reachpeaks(self,top):\n",
    "        if top in self.names.keys():\n",
    "            self.reorder(top)\n",
    "            return [i for i in self.walk()]\n",
    "        return []\n",
    "    \n",
    "    def isavailablefrom(self,top1,top2):\n",
    "        return top2 in self.reachpeaks(top1)\n",
    "    \n",
    "    def walk(self,x = None,kind = 'w'):\n",
    "        if kind == 'w':\n",
    "            Q = queue()\n",
    "        else:\n",
    "            Q = stack()\n",
    "        keys = [k for k in self.names.keys()]\n",
    "        if not x: \n",
    "            x = {k:0 for k in keys}\n",
    "            beg = keys[0]\n",
    "        else:\n",
    "            for k in x.keys():\n",
    "                if x[k] == 0:\n",
    "                    beg = k\n",
    "                    break\n",
    "        \n",
    "        x[beg] = 1\n",
    "        Q.push(beg)\n",
    "        while len(Q) != 0:\n",
    "            u = Q.pop()\n",
    "            yield u\n",
    "            for neighbor in self.names[u]:\n",
    "                if x[neighbor] == 0:\n",
    "                    Q.push(neighbor)\n",
    "                    x[neighbor] = 1\n",
    "        self.x = x\n",
    "\n",
    "def fullgraph(n = 3):\n",
    "    #генерация полного графа\n",
    "    def sub(a,val):\n",
    "        a = copy.copy(a)\n",
    "        a.remove(val)\n",
    "        return a\n",
    "    keys = [str(i) for i in range(n)]\n",
    "    d = {key:sub(keys,key) for key in keys}\n",
    "    return d\n",
    "\n",
    "def inc_to_list(m):\n",
    "    #преобразует матрицу смежности в список смежности\n",
    "    d = {}\n",
    "    for i in range(len(m)):\n",
    "        for j in range(len(m)):\n",
    "            if m[i][j] != 0:\n",
    "                try:\n",
    "                    d[str(i+1)].append(str(j+1))\n",
    "                except:\n",
    "                    d[str(i+1)] = [str(j+1)]\n",
    "    return d\n",
    "\n",
    "def edges(gr):\n",
    "    '''\n",
    "    Вынимает из неориентированного графа все ребра\n",
    "    и сортирует их по возрастанию веса\n",
    "    '''\n",
    "    n = gr.weight.shape[0]   \n",
    "    res = []\n",
    "    for i in range(n):\n",
    "        for j in range(i,n):\n",
    "            if gr.weight[i,j] != 0:\n",
    "                res.append((gr.weight[i,j],i,j))\n",
    "    res = np.array(res,dtype = [('weights',float),('froms',int),('tos',int)])\n",
    "    return np.sort(res,order = 'weights',kind = 'mergesort')"
   ]
  },
  {
   "cell_type": "markdown",
   "metadata": {},
   "source": [
    "## Реализация алгоритмов:"
   ]
  },
  {
   "cell_type": "code",
   "execution_count": 23,
   "metadata": {},
   "outputs": [],
   "source": [
    "def Kraskala(gr):\n",
    "    '''\n",
    "    O(E*logE + EV)\n",
    "    Алгоритм Краскала поиска минимального остовного дерева в графе\n",
    "    возвращает минимальный остов\n",
    "    \n",
    "    '''\n",
    "    i = 1\n",
    "    n =len(gr.weight)\n",
    "    # T - это весовая матрица смежности. gr.weight - тоже\n",
    "    T = np.zeros((n,n))\n",
    "    # создание списка ребер, отсортированного по весу\n",
    "    edgs = edges(gr) # O(m*log(m))\n",
    "    # нулевой шаг алгоритма\n",
    "    T[edgs[0][1],edgs[0][2]] = edgs[0][0]\n",
    "    T[edgs[0][2],edgs[0][1]] = edgs[0][0]\n",
    "    for e in edgs[1:]: \n",
    "        # O(nm) - общая сложность на присоединение n-1 ребра\n",
    "        # e[0] - вес ребра, е[1] - начальная вершина ребра, е[2] - конечная вершина ребра\n",
    "        if i > n-1: break\n",
    "        else: i += 1\n",
    "        #проверка на то, доступна ли из одной вершины другая. Если доступна, то образуется цикл, а нам такие не нужны.\n",
    "        fl = graph(inc_to_list(T),T).isavailablefrom(str(e[1]+1),str(e[2]+1))        \n",
    "        if not fl:\n",
    "            T[e[1],e[2]] = e[0]\n",
    "            T[e[2],e[1]] = e[0]\n",
    "    return graph(inc_to_list(T),T)"
   ]
  },
  {
   "cell_type": "markdown",
   "metadata": {},
   "source": [
    "## Примеры графов для тестов:"
   ]
  },
  {
   "cell_type": "code",
   "execution_count": 20,
   "metadata": {},
   "outputs": [],
   "source": [
    "# Пример 6.1 стр. 61\n",
    "g_6_1 = {'1':['2','6','5'],\n",
    "         '2':['1','3','5'],\n",
    "         '3':['2','4'],\n",
    "         '4':['3','5','6'],\n",
    "         '5':['1','4','6','2'],\n",
    "         '6':['1','4','5']}\n",
    "g_6_1_weight= np.array([[0,10,0,0,9,8],\n",
    "                        [10,0,2,0,6,0],\n",
    "                        [0,2,0,5,0,0],\n",
    "                        [0,0,5,0,4,3],\n",
    "                        [9,6,0,4,0,1],\n",
    "                        [8,0,0,3,1,0]])\n",
    "\n",
    "\n",
    "# Пример 6.4 стр. 65\n",
    "g_6_4 = {'1':['2','3','4'],\n",
    "         '2':['1','3','11'],\n",
    "         '3':['1','2','6','7','8'],\n",
    "         '4':['1','5','6'],\n",
    "         '5':['4','6','7'],\n",
    "         '6':['3','4','5','7'],\n",
    "         '7':['3','5','6','8','9'],\n",
    "         '8':['3','7','9','10','11'],\n",
    "         '9':['7','8','10'],\n",
    "         '10':['8','9','11'],\n",
    "         '11':['2','8','10']}\n",
    "\n",
    "g_6_4_weight = np.array([[0,5,3,10,0,0,0,0,0,0,0],\n",
    "                         [5,0,10,0,0,0,0,0,0,0,5],\n",
    "                         [3,10,0,0,0,8,10,2,0,0,0],\n",
    "                         [10,0,0,0,1,1,0,0,0,0,0],\n",
    "                         [0,0,0,1,0,1,2,0,0,0,0],\n",
    "                         [0,0,8,1,1,0,10,0,0,0,0],\n",
    "                         [0,0,10,0,2,10,0,2,1,0,0],\n",
    "                         [0,0,2,0,0,0,2,0,3,1,7],\n",
    "                         [0,0,0,0,0,0,1,3,0,1,0],\n",
    "                         [0,0,0,0,0,0,0,1,1,0,6],\n",
    "                         [0,5,0,0,0,0,0,7,0,6,0]])\n",
    "\n",
    "\n",
    "\n",
    "# Пример 6.5 стр. 66\n",
    "g_6_5 = {'1':['2','4','5'],\n",
    "        '2':['1','3','4','5','7'],\n",
    "        '3':['2','9','8'],\n",
    "        '4':['1','2','6','7','11'],\n",
    "        '5':['1','2','6','7'],\n",
    "        '6':['4','5','11'],\n",
    "        '7':['4','2','5','8','9','10','11'],\n",
    "        '8':['3','7','9','12'],\n",
    "        '9':['3','7','8','10'],\n",
    "        '10':['7','9','12'],\n",
    "        '11':['4','6','7','12'],\n",
    "        '12':['8','10','11']}\n",
    "\n",
    "\n",
    "g_6_5_weight = np.array([[0,6,0,11,5,0,0,0,0,0,0,0],\n",
    "                      [6,0,15,18,8,0,11,0,0,0,0,0],\n",
    "                      [0,15,0,0,0,0,0,18,6,0,0,0],\n",
    "                      [11,18,0,0,0,10,7,0,0,0,17,0],\n",
    "                      [5,8,0,0,0,15,9,0,0,0,0,0],\n",
    "                      [0,0,0,10,15,0,0,0,0,0,3,0],\n",
    "                      [0,11,0,7,9,0,0,9,4,13,12,0],\n",
    "                      [0,0,18,0,0,0,9,0,14,0,0,5],\n",
    "                      [0,0,6,0,0,0,4,14,0,19,0,0],\n",
    "                      [0,0,0,0,0,0,13,0,19,0,0,2],\n",
    "                      [0,0,0,17,0,3,12,0,0,0,0,7],\n",
    "                      [0,0,0,0,0,0,0,5,0,2,7,0]])\n",
    "\n",
    "\n",
    "\n",
    "# Пример 6.6 стр. 67\n",
    "g_6_6 = fullgraph(7)\n",
    "\n",
    "g_6_6_weight = np.array([[0,4,3,10,6,7,7],\n",
    "                        [4,0,5,4,4,3,9],\n",
    "                        [3,5,0,1,3,2,8],\n",
    "                        [10,4,1,0,10,8,3],\n",
    "                        [6,4,3,10,0,4,5],\n",
    "                        [7,3,2,8,4,0,9],\n",
    "                        [7,9,8,3,5,9,0]])\n",
    "\n",
    "graph_66 = graph(g_6_6, g_6_6_weight)\n",
    "graph_65 = graph(g_6_5, g_6_5_weight)\n",
    "graph_64 = graph(g_6_4, g_6_4_weight)\n",
    "graph_61 = graph(g_6_1, g_6_1_weight)"
   ]
  },
  {
   "cell_type": "code",
   "execution_count": 27,
   "metadata": {},
   "outputs": [],
   "source": [
    "ostov_61 = Kraskala(graph_61)\n",
    "ostov_64 = Kraskala(graph_64)\n",
    "ostov_65 = Kraskala(graph_65)\n",
    "ostov_66 = Kraskala(graph_66)"
   ]
  },
  {
   "cell_type": "markdown",
   "metadata": {},
   "source": [
    "# Задача: схема мелиорации рисовых полей(далее выведен минимальный остов)"
   ]
  },
  {
   "cell_type": "code",
   "execution_count": 25,
   "metadata": {},
   "outputs": [
    {
     "name": "stdout",
     "output_type": "stream",
     "text": [
      "{'1': ['6'], '2': ['3'], '3': ['2', '4'], '4': ['3', '6'], '5': ['6'], '6': ['1', '4', '5']}\n"
     ]
    }
   ],
   "source": [
    "print(ostov_61)"
   ]
  },
  {
   "cell_type": "markdown",
   "metadata": {},
   "source": [
    "# Иные примеры минимальных остовов для примеров графов из методички"
   ]
  },
  {
   "cell_type": "code",
   "execution_count": 28,
   "metadata": {},
   "outputs": [
    {
     "name": "stdout",
     "output_type": "stream",
     "text": [
      "{'1': ['2', '3'], '2': ['1', '11'], '3': ['1', '8'], '4': ['5', '6'], '5': ['4', '7'], '6': ['4'], '7': ['5', '9'], '8': ['3', '10'], '9': ['7', '10'], '10': ['8', '9'], '11': ['2']}\n"
     ]
    }
   ],
   "source": [
    "print(ostov_64)"
   ]
  },
  {
   "cell_type": "code",
   "execution_count": 29,
   "metadata": {},
   "outputs": [
    {
     "name": "stdout",
     "output_type": "stream",
     "text": [
      "{'1': ['2', '5'], '2': ['1'], '3': ['9'], '4': ['7'], '5': ['1', '7'], '6': ['11'], '7': ['4', '5', '8', '9'], '8': ['7', '12'], '9': ['3', '7'], '10': ['12'], '11': ['6', '12'], '12': ['8', '10', '11']}\n"
     ]
    }
   ],
   "source": [
    "print(ostov_65)"
   ]
  },
  {
   "cell_type": "code",
   "execution_count": 30,
   "metadata": {},
   "outputs": [
    {
     "name": "stdout",
     "output_type": "stream",
     "text": [
      "{'1': ['3'], '2': ['6'], '3': ['1', '4', '5', '6'], '4': ['3', '7'], '5': ['3'], '6': ['2', '3'], '7': ['4']}\n"
     ]
    }
   ],
   "source": [
    "print(ostov_66)"
   ]
  },
  {
   "cell_type": "code",
   "execution_count": null,
   "metadata": {},
   "outputs": [],
   "source": []
  }
 ],
 "metadata": {
  "kernelspec": {
   "display_name": "Python 3",
   "language": "python",
   "name": "python3"
  },
  "language_info": {
   "codemirror_mode": {
    "name": "ipython",
    "version": 3
   },
   "file_extension": ".py",
   "mimetype": "text/x-python",
   "name": "python",
   "nbconvert_exporter": "python",
   "pygments_lexer": "ipython3",
   "version": "3.8.3"
  }
 },
 "nbformat": 4,
 "nbformat_minor": 2
}
